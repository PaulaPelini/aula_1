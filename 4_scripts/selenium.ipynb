{
 "cells": [
  {
   "cell_type": "code",
   "execution_count": 1,
   "metadata": {},
   "outputs": [],
   "source": [
    "import pandas as pd\n",
    "from selenium import webdriver\n",
    "from selenium.webdriver.common.by  import By"
   ]
  },
  {
   "cell_type": "code",
   "execution_count": 2,
   "metadata": {},
   "outputs": [],
   "source": [
    "navegador = webdriver.Chrome()"
   ]
  },
  {
   "cell_type": "code",
   "execution_count": 3,
   "metadata": {},
   "outputs": [],
   "source": [
    "navegador.get('https://books.toscrape.com/')"
   ]
  },
  {
   "cell_type": "code",
   "execution_count": 4,
   "metadata": {},
   "outputs": [],
   "source": [
    "navegador.find_element(By.XPATH, '//*[@id=\"default\"]/div/div/div/aside/div[2]/ul/li/ul/li[9]/a').click()"
   ]
  },
  {
   "cell_type": "code",
   "execution_count": 5,
   "metadata": {},
   "outputs": [],
   "source": [
    "preco = navegador.find_element(By.XPATH,'//*[@id=\"default\"]/div/div/div/div/section/div[2]/ol/li[1]/article/div[2]/p[1]').text\n",
    "estoque = navegador.find_element(By.XPATH,'//*[@id=\"default\"]/div/div/div/div/section/div[2]/ol/li[1]/article/div[2]/p[2]').text\n",
    "titulo = navegador.find_element(By.XPATH,'//*[@id=\"default\"]/div/div/div/div/section/div[2]/ol/li[1]/article/h3').text"
   ]
  },
  {
   "cell_type": "code",
   "execution_count": 6,
   "metadata": {},
   "outputs": [
    {
     "name": "stdout",
     "output_type": "stream",
     "text": [
      "£50.10\n",
      "In stock\n",
      "Soumission\n"
     ]
    }
   ],
   "source": [
    "print(preco)\n",
    "print(estoque)\n",
    "print(titulo)"
   ]
  },
  {
   "cell_type": "code",
   "execution_count": 7,
   "metadata": {},
   "outputs": [
    {
     "name": "stdout",
     "output_type": "stream",
     "text": [
      "['Soumission', 'Private Paris (Private #10)', 'We Love You, Charlie ...', 'Thirst', 'The Murder That Never ...', 'Tuesday Nights in 1980', 'The Vacationers', 'The Regional Office Is ...', 'Finders Keepers (Bill Hodges ...', 'The Time Keeper', 'The Testament of Mary', 'The First Hostage (J.B. ...', 'Take Me with You', 'Still Life with Bread ...', 'Shtum', 'My Name Is Lucy ...', 'My Mrs. Brown', 'Mr. Mercedes (Bill Hodges ...', 'I Am Pilgrim (Pilgrim ...']\n"
     ]
    }
   ],
   "source": [
    "lista_vazia = []\n",
    "for i in range(1, 20):\n",
    "    titulo = navegador.find_element(By.XPATH, '//*[@id=\"default\"]/div/div/div/div/section/div[2]/ol/li['+str(i)+']/article/h3/a').text\n",
    "    lista_vazia.append(titulo)\n",
    "print(lista_vazia)"
   ]
  },
  {
   "cell_type": "code",
   "execution_count": 8,
   "metadata": {},
   "outputs": [],
   "source": [
    "df = pd.DataFrame(lista_vazia, columns=['titulo'])"
   ]
  },
  {
   "cell_type": "code",
   "execution_count": 9,
   "metadata": {},
   "outputs": [
    {
     "name": "stdout",
     "output_type": "stream",
     "text": [
      "['£50.10', '£47.61', '£50.27', '£17.27', '£54.11', '£21.04', '£42.15', '£51.36', '£53.53', '£27.88', '£52.67', '£25.85', '£45.21', '£26.41', '£55.84', '£41.56', '£24.48', '£28.90', '£10.60']\n"
     ]
    }
   ],
   "source": [
    "lista_vazia_preco = []\n",
    "for i in range(1, 20):\n",
    "    preco = navegador.find_element(By.XPATH, '//*[@id=\"default\"]/div/div/div/div/section/div[2]/ol/li['+str(i)+']/article/div[2]/p[1]').text\n",
    "    lista_vazia_preco.append(preco)\n",
    "print(lista_vazia_preco)"
   ]
  },
  {
   "cell_type": "code",
   "execution_count": 10,
   "metadata": {},
   "outputs": [
    {
     "data": {
      "text/html": [
       "<div>\n",
       "<style scoped>\n",
       "    .dataframe tbody tr th:only-of-type {\n",
       "        vertical-align: middle;\n",
       "    }\n",
       "\n",
       "    .dataframe tbody tr th {\n",
       "        vertical-align: top;\n",
       "    }\n",
       "\n",
       "    .dataframe thead th {\n",
       "        text-align: right;\n",
       "    }\n",
       "</style>\n",
       "<table border=\"1\" class=\"dataframe\">\n",
       "  <thead>\n",
       "    <tr style=\"text-align: right;\">\n",
       "      <th></th>\n",
       "      <th>titulo</th>\n",
       "      <th>preco</th>\n",
       "    </tr>\n",
       "  </thead>\n",
       "  <tbody>\n",
       "    <tr>\n",
       "      <th>0</th>\n",
       "      <td>Soumission</td>\n",
       "      <td>£50.10</td>\n",
       "    </tr>\n",
       "    <tr>\n",
       "      <th>1</th>\n",
       "      <td>Private Paris (Private #10)</td>\n",
       "      <td>£47.61</td>\n",
       "    </tr>\n",
       "    <tr>\n",
       "      <th>2</th>\n",
       "      <td>We Love You, Charlie ...</td>\n",
       "      <td>£50.27</td>\n",
       "    </tr>\n",
       "    <tr>\n",
       "      <th>3</th>\n",
       "      <td>Thirst</td>\n",
       "      <td>£17.27</td>\n",
       "    </tr>\n",
       "    <tr>\n",
       "      <th>4</th>\n",
       "      <td>The Murder That Never ...</td>\n",
       "      <td>£54.11</td>\n",
       "    </tr>\n",
       "    <tr>\n",
       "      <th>5</th>\n",
       "      <td>Tuesday Nights in 1980</td>\n",
       "      <td>£21.04</td>\n",
       "    </tr>\n",
       "    <tr>\n",
       "      <th>6</th>\n",
       "      <td>The Vacationers</td>\n",
       "      <td>£42.15</td>\n",
       "    </tr>\n",
       "    <tr>\n",
       "      <th>7</th>\n",
       "      <td>The Regional Office Is ...</td>\n",
       "      <td>£51.36</td>\n",
       "    </tr>\n",
       "    <tr>\n",
       "      <th>8</th>\n",
       "      <td>Finders Keepers (Bill Hodges ...</td>\n",
       "      <td>£53.53</td>\n",
       "    </tr>\n",
       "    <tr>\n",
       "      <th>9</th>\n",
       "      <td>The Time Keeper</td>\n",
       "      <td>£27.88</td>\n",
       "    </tr>\n",
       "    <tr>\n",
       "      <th>10</th>\n",
       "      <td>The Testament of Mary</td>\n",
       "      <td>£52.67</td>\n",
       "    </tr>\n",
       "    <tr>\n",
       "      <th>11</th>\n",
       "      <td>The First Hostage (J.B. ...</td>\n",
       "      <td>£25.85</td>\n",
       "    </tr>\n",
       "    <tr>\n",
       "      <th>12</th>\n",
       "      <td>Take Me with You</td>\n",
       "      <td>£45.21</td>\n",
       "    </tr>\n",
       "    <tr>\n",
       "      <th>13</th>\n",
       "      <td>Still Life with Bread ...</td>\n",
       "      <td>£26.41</td>\n",
       "    </tr>\n",
       "    <tr>\n",
       "      <th>14</th>\n",
       "      <td>Shtum</td>\n",
       "      <td>£55.84</td>\n",
       "    </tr>\n",
       "    <tr>\n",
       "      <th>15</th>\n",
       "      <td>My Name Is Lucy ...</td>\n",
       "      <td>£41.56</td>\n",
       "    </tr>\n",
       "    <tr>\n",
       "      <th>16</th>\n",
       "      <td>My Mrs. Brown</td>\n",
       "      <td>£24.48</td>\n",
       "    </tr>\n",
       "    <tr>\n",
       "      <th>17</th>\n",
       "      <td>Mr. Mercedes (Bill Hodges ...</td>\n",
       "      <td>£28.90</td>\n",
       "    </tr>\n",
       "    <tr>\n",
       "      <th>18</th>\n",
       "      <td>I Am Pilgrim (Pilgrim ...</td>\n",
       "      <td>£10.60</td>\n",
       "    </tr>\n",
       "  </tbody>\n",
       "</table>\n",
       "</div>"
      ],
      "text/plain": [
       "                              titulo   preco\n",
       "0                         Soumission  £50.10\n",
       "1        Private Paris (Private #10)  £47.61\n",
       "2           We Love You, Charlie ...  £50.27\n",
       "3                             Thirst  £17.27\n",
       "4          The Murder That Never ...  £54.11\n",
       "5             Tuesday Nights in 1980  £21.04\n",
       "6                    The Vacationers  £42.15\n",
       "7         The Regional Office Is ...  £51.36\n",
       "8   Finders Keepers (Bill Hodges ...  £53.53\n",
       "9                    The Time Keeper  £27.88\n",
       "10             The Testament of Mary  £52.67\n",
       "11       The First Hostage (J.B. ...  £25.85\n",
       "12                  Take Me with You  £45.21\n",
       "13         Still Life with Bread ...  £26.41\n",
       "14                             Shtum  £55.84\n",
       "15               My Name Is Lucy ...  £41.56\n",
       "16                     My Mrs. Brown  £24.48\n",
       "17     Mr. Mercedes (Bill Hodges ...  £28.90\n",
       "18         I Am Pilgrim (Pilgrim ...  £10.60"
      ]
     },
     "execution_count": 10,
     "metadata": {},
     "output_type": "execute_result"
    }
   ],
   "source": [
    "df['preco'] = lista_vazia_preco\n",
    "df"
   ]
  },
  {
   "cell_type": "code",
   "execution_count": 11,
   "metadata": {},
   "outputs": [],
   "source": [
    "navegador.find_element(By.XPATH, '//*[@id=\"default\"]/div/div/div/div/section/div[2]/div/ul/li[2]/a').click()\n"
   ]
  },
  {
   "cell_type": "code",
   "execution_count": 12,
   "metadata": {},
   "outputs": [],
   "source": [
    "#df.to_csv('dados_originais.csv', sep = ';', index=False)\n",
    "df.to_csv('../0_bases_originais/dados_originais.csv', sep = ';', index=False , encoding='UTF-8' )"
   ]
  },
  {
   "cell_type": "code",
   "execution_count": 13,
   "metadata": {},
   "outputs": [],
   "source": [
    "df.to_json('../0_bases_originais/dados_originais.json')"
   ]
  },
  {
   "cell_type": "code",
   "execution_count": null,
   "metadata": {},
   "outputs": [],
   "source": []
  },
  {
   "cell_type": "code",
   "execution_count": null,
   "metadata": {},
   "outputs": [],
   "source": []
  },
  {
   "cell_type": "code",
   "execution_count": null,
   "metadata": {},
   "outputs": [],
   "source": []
  },
  {
   "cell_type": "code",
   "execution_count": null,
   "metadata": {},
   "outputs": [],
   "source": []
  },
  {
   "cell_type": "code",
   "execution_count": null,
   "metadata": {},
   "outputs": [],
   "source": []
  }
 ],
 "metadata": {
  "kernelspec": {
   "display_name": "Python 3",
   "language": "python",
   "name": "python3"
  },
  "language_info": {
   "codemirror_mode": {
    "name": "ipython",
    "version": 3
   },
   "file_extension": ".py",
   "mimetype": "text/x-python",
   "name": "python",
   "nbconvert_exporter": "python",
   "pygments_lexer": "ipython3",
   "version": "3.12.1"
  },
  "orig_nbformat": 4
 },
 "nbformat": 4,
 "nbformat_minor": 2
}
